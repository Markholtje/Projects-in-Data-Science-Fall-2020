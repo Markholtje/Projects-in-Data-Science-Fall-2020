{
  "nbformat": 4,
  "nbformat_minor": 0,
  "metadata": {
    "kernelspec": {
      "display_name": "Python 3",
      "language": "python",
      "name": "python3"
    },
    "language_info": {
      "codemirror_mode": {
        "name": "ipython",
        "version": 3
      },
      "file_extension": ".py",
      "mimetype": "text/x-python",
      "name": "python",
      "nbconvert_exporter": "python",
      "pygments_lexer": "ipython3",
      "version": "3.7.3"
    },
    "colab": {
      "name": "_Mah843__WebAPI_Homework.ipynb",
      "provenance": [],
      "collapsed_sections": []
    }
  },
  "cells": [
    {
      "cell_type": "markdown",
      "metadata": {
        "id": "kYPwKs8zFieN"
      },
      "source": [
        "## To submit this assignment, please solve the following problem. Then, save your notebook with the format [NETID]\\_WebAPI_Homework and submit via NYU Classes. "
      ]
    },
    {
      "cell_type": "markdown",
      "metadata": {
        "id": "TNQ2wp10FieP"
      },
      "source": [
        "---"
      ]
    },
    {
      "cell_type": "markdown",
      "metadata": {
        "id": "krMPg3mEFieQ"
      },
      "source": [
        "### For this assignment you must:\n",
        "\n",
        "1. Go to https://openlibrary.org/developers/api and read the documentation for the Open Library API, then read the .json response for the subject 'horror' (hint: https://openlibrary.org/dev/docs/api/subjects) as a Python dictionary,\n",
        "2. Get the .json response for the subject 'horror', only if a book was released electronically and published between 2000 and 2010,\n",
        "3. Store the title of each book with the 'horror' subject that was released electronically and published between 2000 and 2010 in a list or set,\n",
        "4. Create a basic Flask app that allows a user to choose between 'horror', 'romance', and science'and receive a list of titles published between 2000 and 2019. "
      ]
    },
    {
      "cell_type": "markdown",
      "metadata": {
        "id": "9dm99AIwFieQ"
      },
      "source": [
        "---"
      ]
    },
    {
      "cell_type": "markdown",
      "metadata": {
        "id": "yOGJ_xSXFieR"
      },
      "source": [
        "## 1. Get the .json response for the subject 'horror' as a Python dictionary"
      ]
    },
    {
      "cell_type": "code",
      "metadata": {
        "scrolled": true,
        "id": "larVNNJHFieS"
      },
      "source": [
        "# your solution here\n",
        "\n",
        "import requests\n",
        "\n",
        "url = 'http://openlibrary.org/subjects/horror.json'\n",
        "resp = requests.get(url)\n",
        "\n",
        "resp # the 'response' of the server\n",
        "# 200 means things went well\n",
        "# 404 means the URL wasn't found\n",
        "# 5xx means something, somehow, somewhere went wrong"
      ],
      "execution_count": null,
      "outputs": []
    },
    {
      "cell_type": "code",
      "metadata": {
        "id": "qa9I6y5esOnO"
      },
      "source": [
        "data = resp.json()\n",
        "data"
      ],
      "execution_count": null,
      "outputs": []
    },
    {
      "cell_type": "markdown",
      "metadata": {
        "id": "qmZ5R3QEFieV"
      },
      "source": [
        "## 2. Get the .json response for the subject 'horror' as a Python dictionary _if_ the book was released electronically and published between 2000 and 2010"
      ]
    },
    {
      "cell_type": "code",
      "metadata": {
        "id": "3-JSEwHYFieW"
      },
      "source": [
        "# your solution here\n",
        "url2 = 'http://openlibrary.org/subjects/horror.json?/ebooks=true/published_in=2000-2010'\n",
        "resp2 = requests.get(url2)\n",
        "\n",
        "resp2"
      ],
      "execution_count": null,
      "outputs": []
    },
    {
      "cell_type": "code",
      "metadata": {
        "id": "lkP8LmEg5hB7"
      },
      "source": [
        "data2 = resp2.json()\n",
        "data2"
      ],
      "execution_count": null,
      "outputs": []
    },
    {
      "cell_type": "markdown",
      "metadata": {
        "id": "EJBwJYqzFieZ"
      },
      "source": [
        "## 3. Store the title of each book with the 'horror' subject that was released electronically and published between 2000 and 2010 in a list or set"
      ]
    },
    {
      "cell_type": "code",
      "metadata": {
        "id": "eUGn2p60Fiea"
      },
      "source": [
        "# your solution here\n",
        "book_titles = set()\n",
        "\n",
        "for i in data2[\"works\"]: \n",
        "  book_titles.add(i['title'])\n",
        "\n",
        "book_titles"
      ],
      "execution_count": null,
      "outputs": []
    },
    {
      "cell_type": "markdown",
      "metadata": {
        "id": "FWRRQ3zwFied"
      },
      "source": [
        "## 4. Create a basic Flask app that allows a user to choose between 'horror', 'romance', and science'and receive a list of titles published between 2000 and 2019"
      ]
    },
    {
      "cell_type": "code",
      "metadata": {
        "id": "pE69HFYaFiee"
      },
      "source": [
        "# please zip the directory that contains your Flask app and upload it to NYU Classes.\n",
        "\n",
        "from flask import Flask\n",
        "import requests\n",
        " \n",
        "app = Flask(__name__)\n",
        "@app.route('/subjects')\n",
        "\n",
        "def movie_genre(): \n",
        "  science_url = 'http://openlibrary.org/subjects/science.json?/ebooks=true/published_in=2000-2019'\n",
        "  resp = requests.get(science_url)\n",
        "  science_data = resp.json()\n",
        "\n",
        "  horror_url = 'http://openlibrary.org/subjects/horror.json?/ebooks=true/published_in=2000-2019'\n",
        "  resp = requests.get(horror_url)\n",
        "  horror_data = resp.json()\n",
        "\n",
        "  romance_url = 'http://openlibrary.org/subjects/romance.json?/ebooks=true/published_in=2000-2019'\n",
        "  resp = requests.get(romance_url)\n",
        "  romance_data = resp.json()\n",
        "\n",
        "  movie_titles_list = [] \n",
        "\n",
        "  for i in science_data['works']: \n",
        "    movie_titles_list.append(i['title'])\n",
        "\n",
        "  for i in horror_data['works']: \n",
        "    movie_titles_list.append(i['title'])\n",
        "\n",
        "  for i in romance_data['works']: \n",
        "    movie_titles_list.append(i['title'])\n",
        "\n",
        "  return 'Movie Titles: {}'.format(movie_titles_list)\n",
        "\n",
        "\n"
      ],
      "execution_count": 22,
      "outputs": []
    }
  ]
}