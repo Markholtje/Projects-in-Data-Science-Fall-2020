{
  "nbformat": 4,
  "nbformat_minor": 0,
  "metadata": {
    "kernelspec": {
      "display_name": "Python 3",
      "language": "python",
      "name": "python3"
    },
    "language_info": {
      "codemirror_mode": {
        "name": "ipython",
        "version": 3
      },
      "file_extension": ".py",
      "mimetype": "text/x-python",
      "name": "python",
      "nbconvert_exporter": "python",
      "pygments_lexer": "ipython3",
      "version": "3.7.3"
    },
    "colab": {
      "name": "_Mah843__DataViz_Homework.ipynb",
      "provenance": [],
      "collapsed_sections": []
    }
  },
  "cells": [
    {
      "cell_type": "markdown",
      "metadata": {
        "id": "0n5AWwHfn7hU"
      },
      "source": [
        "## To submit this assignment, please solve the following problem. Then, save your notebook with the format [YOUR_NAME_HERE]\\_DataViz_Homework and submit via NYU Classes. "
      ]
    },
    {
      "cell_type": "markdown",
      "metadata": {
        "id": "5zczRKVvn7hX"
      },
      "source": [
        "---"
      ]
    },
    {
      "cell_type": "markdown",
      "metadata": {
        "id": "CEGf6raYn7ha"
      },
      "source": [
        "### For this assignment you must:\n",
        "\n",
        "1. Curl the NYC Accidents CSV used in class and create a new 'DATETIME' column, as done in class;\n",
        "2. Plot a random selection of 10000 accidents that take place in Brooklyn;\n",
        "3. Plot the number of pedestrians injured between Jan 1, 2018 and March 1, 2018; \n",
        "4. Use a pivot table to find the average number of pedestrians injured per datetime for each borough, \n",
        "5. And plot the data as a timeseries between Jan. 1, 2019 and Jan. 8, 2019. "
      ]
    },
    {
      "cell_type": "markdown",
      "metadata": {
        "id": "640vHe6En7hc"
      },
      "source": [
        "## 1. Read in the NYC Accidents CSV and create new 'DATETIME' column"
      ]
    },
    {
      "cell_type": "code",
      "metadata": {
        "id": "Bsd1PNQFn7hf"
      },
      "source": [
        "import pandas as pd\n",
        "!curl 'https://data.cityofnewyork.us/api/views/h9gi-nx95/rows.csv?accessType=DOWNLOAD' -o accidents.csv\n",
        "# your code here"
      ],
      "execution_count": null,
      "outputs": []
    },
    {
      "cell_type": "code",
      "metadata": {
        "id": "ADFQ3JBguHXK"
      },
      "source": [
        "data = pd.read_csv(\"./accidents.csv\",low_memory=False)\n",
        "data.dtypes"
      ],
      "execution_count": null,
      "outputs": []
    },
    {
      "cell_type": "code",
      "metadata": {
        "id": "9Em5hoThvHJb"
      },
      "source": [
        "data['DATETIME'] = data['CRASH DATE'] + ' ' + data['CRASH TIME'] # create a new field called 'datetime' that combines date and time\n",
        "data['DATETIME'] = pd.to_datetime(data['DATETIME'], format=\"%m/%d/%Y %H:%M\") # format this new column as a datetime\n",
        "\n",
        "data['CRASH TIME'] = pd.to_datetime(data['CRASH TIME'], format=\"%H:%M\")\n",
        "data['DATE'] = pd.to_datetime(data['CRASH DATE'], format=\"%m/%d/%Y\")\n",
        "\n",
        "data['INJURY'] = (data['NUMBER OF PERSONS INJURED']>0) # true if there's at least one injury, false if otherwise\n",
        "data['DEATH'] = (data['NUMBER OF PERSONS KILLED']>0) # true if there's at least one death, false if otherwise\n",
        "\n",
        "clean_mask = (data.LATITUDE > 40) & (data.LATITUDE < 41) & (data.LONGITUDE < -72) & (data.LONGITUDE > -74.5)\n",
        "cleandf = data[clean_mask]\n"
      ],
      "execution_count": 174,
      "outputs": []
    },
    {
      "cell_type": "code",
      "metadata": {
        "id": "3U6S9uZn8WL8"
      },
      "source": [
        "data"
      ],
      "execution_count": null,
      "outputs": []
    },
    {
      "cell_type": "code",
      "metadata": {
        "id": "km1S_cV0egkH"
      },
      "source": [
        "cleandf.plot(kind='scatter', x='LONGITUDE', y='LATITUDE', figsize=(20, 15),s=1, alpha=1) "
      ],
      "execution_count": null,
      "outputs": []
    },
    {
      "cell_type": "markdown",
      "metadata": {
        "id": "KTFuMmitn7hx"
      },
      "source": [
        "## 2. Plot a random selection of 10,000 accidents in Brooklyn"
      ]
    },
    {
      "cell_type": "code",
      "metadata": {
        "id": "U7S0_vBAn7hz"
      },
      "source": [
        "%matplotlib inline\n",
        "\n",
        "brooklyn_df = cleandf[cleandf['BOROUGH'] == 'BROOKLYN']\n",
        "\n",
        "sample = brooklyn_df.sample(n=10000) # keep 10,000 data points\n",
        "sample.plot(kind='scatter', x='LONGITUDE', y='LATITUDE', figsize=(20, 15),s=1, alpha=1) \n",
        "\n",
        "# your code here"
      ],
      "execution_count": null,
      "outputs": []
    },
    {
      "cell_type": "markdown",
      "metadata": {
        "id": "OpMa1d3gn7h-"
      },
      "source": [
        "## 3. Plot the sum of pedestrians injured between Jan. 1, 2018 and Mar. 1, 2018"
      ]
    },
    {
      "cell_type": "code",
      "metadata": {
        "scrolled": true,
        "id": "_Gtgp4WGn7iA"
      },
      "source": [
        "mod_df = cleandf[(cleandf['DATE'] >= '01-01-2018') & (cleandf['DATE'] <= '03-01-2018') & (cleandf['INJURY'] == True)]\n",
        "#print(len(mod_df))   6238 incidents of pedestrian injury between Jan. 1, 2018 and Mar. 1, 2018\n",
        "\n",
        "mod_df.plot(kind='scatter', x='LONGITUDE', y='LATITUDE', figsize=(20, 15),s=1, alpha=1)"
      ],
      "execution_count": null,
      "outputs": []
    },
    {
      "cell_type": "markdown",
      "metadata": {
        "id": "gcQXkTswn7id"
      },
      "source": [
        "## 4. Use a pivot table to find the average number of pedestrians injured per datetime for each borough..."
      ]
    },
    {
      "cell_type": "code",
      "metadata": {
        "id": "TQDnpfYZn7ie"
      },
      "source": [
        "# your code here to create the pivot table\n",
        "\n",
        "injury_timeseries = cleandf.pivot_table(\n",
        "                        index='DATETIME', \n",
        "                        values='NUMBER OF PEDESTRIANS INJURED', \n",
        "                        aggfunc='mean'\n",
        "                    ).interpolate(method='pad') \n",
        "injury_timeseries"
      ],
      "execution_count": null,
      "outputs": []
    },
    {
      "cell_type": "markdown",
      "metadata": {
        "id": "dQI2_g_En7in"
      },
      "source": [
        "## 5. ...and plot the data as a timeseries between Jan. 1, 2019 and Jan. 8, 2019. "
      ]
    },
    {
      "cell_type": "code",
      "metadata": {
        "scrolled": true,
        "id": "zBH94kDLn7ip"
      },
      "source": [
        "# your code here to plot the timeseries\n",
        "\n",
        "%matplotlib inline\n",
        "\n",
        "injury_timeseries['01-01-2019':'01-08-2019'].plot(alpha=.5, figsize=(18, 9))"
      ],
      "execution_count": null,
      "outputs": []
    }
  ]
}