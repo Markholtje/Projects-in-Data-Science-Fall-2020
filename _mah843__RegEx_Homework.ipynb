{
  "nbformat": 4,
  "nbformat_minor": 0,
  "metadata": {
    "kernelspec": {
      "display_name": "Python 3",
      "language": "python",
      "name": "python3"
    },
    "language_info": {
      "codemirror_mode": {
        "name": "ipython",
        "version": 3
      },
      "file_extension": ".py",
      "mimetype": "text/x-python",
      "name": "python",
      "nbconvert_exporter": "python",
      "pygments_lexer": "ipython3",
      "version": "3.7.3"
    },
    "colab": {
      "name": "_mah843__RegEx_Homework.ipynb",
      "provenance": [],
      "collapsed_sections": []
    }
  },
  "cells": [
    {
      "cell_type": "markdown",
      "metadata": {
        "id": "yxifE9KUejQJ",
        "colab_type": "text"
      },
      "source": [
        "## To submit this assignment, please solve the following problem. Then, save your notebook with the format [YOUR_NAME_HERE]\\_RegEx_Homework and submit via NYU Classes. "
      ]
    },
    {
      "cell_type": "markdown",
      "metadata": {
        "id": "xJcLLdlZejQO",
        "colab_type": "text"
      },
      "source": [
        "---"
      ]
    },
    {
      "cell_type": "markdown",
      "metadata": {
        "id": "005vPWjKejQS",
        "colab_type": "text"
      },
      "source": [
        "### Go to http://www.stern.nyu.edu/faculty/search_name_form/ and write a script to parse the email address from the first page. Here's a bit of a hint to get you started: "
      ]
    },
    {
      "cell_type": "code",
      "metadata": {
        "id": "ia8ON30PejQV",
        "colab_type": "code",
        "colab": {}
      },
      "source": [
        "import requests\n",
        "url = 'http://www.stern.nyu.edu/faculty/search_name_form'\n",
        "\n",
        "html = requests.get(url).text"
      ],
      "execution_count": 15,
      "outputs": []
    },
    {
      "cell_type": "code",
      "metadata": {
        "id": "YlQEsYkVejQq",
        "colab_type": "code",
        "colab": {}
      },
      "source": [
        "emails = set() # set doesn't allow for duplicates, FYI\n",
        "# your code here\n",
        "import re\n",
        "from re import search\n",
        "pattern = r'\\w+@\\w+\\..{3}'\n",
        "\n",
        "regex = re.compile(pattern)\n",
        "# your code here \n",
        "matches = regex.finditer(html)\n",
        "\n",
        "# your code here \n",
        "for i, match in enumerate(matches):\n",
        "    emails.add(match.group())\n",
        "\n",
        "for i in emails: #uses for loop to print the unique emails from the set of emails\n",
        "  print(i)\n"
      ],
      "execution_count": null,
      "outputs": []
    },
    {
      "cell_type": "code",
      "metadata": {
        "id": "hLr7UutWwnFi",
        "colab_type": "code",
        "colab": {}
      },
      "source": [
        "print(emails) #Prints the set of emails in one horizontal line"
      ],
      "execution_count": null,
      "outputs": []
    }
  ]
}